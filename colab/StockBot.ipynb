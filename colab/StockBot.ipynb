{
  "nbformat": 4,
  "nbformat_minor": 0,
  "metadata": {
    "colab": {
      "name": "StockBot-Public.ipynb",
      "provenance": [],
      "collapsed_sections": [],
      "authorship_tag": "ABX9TyPxiCoBvZGyG8lIBN+iWe88"
    },
    "kernelspec": {
      "name": "python3",
      "display_name": "Python 3"
    },
    "language_info": {
      "name": "python"
    }
  },
  "cells": [
    {
      "cell_type": "markdown",
      "metadata": {
        "id": "h98NmhdSQGHF"
      },
      "source": [
        "# Stock Bot for School Community Project"
      ]
    },
    {
      "cell_type": "markdown",
      "metadata": {
        "id": "ZjFTeY3Twwkg"
      },
      "source": [
        "Install the dependencies first in order for the bot to function correctly."
      ]
    },
    {
      "cell_type": "markdown",
      "metadata": {
        "id": "qUx0On1dRYCc"
      },
      "source": [
        "- Dependencies"
      ]
    },
    {
      "cell_type": "code",
      "metadata": {
        "colab": {
          "base_uri": "https://localhost:8080/"
        },
        "id": "7_Hvq-ROQn4F",
        "outputId": "3ebd2ccc-e4d3-4a55-890a-ab5cc6ebe22b"
      },
      "source": [
        "## installs the dependencies\n",
        "\n",
        "from os import system\n",
        "\n",
        "system('apt update')\n",
        "system('apt install chromium-chromedriver')\n",
        "system('pip install discord-webhook')\n",
        "system('pip install selenium')\n",
        "system('pip install requests')\n",
        "print('\\nFinished Installing dependencies. The bot is ready to be deployed.')"
      ],
      "execution_count": null,
      "outputs": [
        {
          "output_type": "stream",
          "text": [
            "\n",
            "Finished Installing dependencies. The bot is ready to be deployed.\n"
          ],
          "name": "stdout"
        }
      ]
    },
    {
      "cell_type": "markdown",
      "metadata": {
        "id": "GqQJzOaSRSAs"
      },
      "source": [
        "- Bot"
      ]
    },
    {
      "cell_type": "code",
      "metadata": {
        "colab": {
          "base_uri": "https://localhost:8080/"
        },
        "id": "SY8eG06YxZiR",
        "outputId": "febdc91b-25ac-4952-ccda-40cc33b5ccfe"
      },
      "source": [
        "## Importing libraries and dependencies\n",
        "\n",
        "print('Importing libraries..')\n",
        "\n",
        "from os import system\n",
        "import sys\n",
        "import time\n",
        "from urllib.parse import urlparse\n",
        "from json import dumps\n",
        "from selenium import webdriver ## the webscraper\n",
        "chrome_options = webdriver.ChromeOptions()\n",
        "chrome_options.add_argument('--headless')\n",
        "chrome_options.add_argument('--no-sandbox')\n",
        "chrome_options.add_argument('--disable-dev-shm-usage')\n",
        "wd = webdriver.Chrome('chromedriver',options=chrome_options)\n",
        "driver = webdriver.Chrome('chromedriver',options=chrome_options)\n",
        "from discord_webhook import DiscordWebhook, DiscordEmbed\n",
        "\n",
        "print('Libraries have been imported.')\n",
        "\n",
        "istrue = 'true'\n",
        "notification_sent = False\n",
        "\n",
        "# Variables\n",
        "\n",
        "webhook = '' #@param {type: \"string\"}\n",
        "embed_webhook = DiscordWebhook(url=webhook)\n",
        "url = \"\" #@param {type: \"string\"}\n",
        "timeout =  0.5#@param {type: \"number\"} \n",
        "hostname = urlparse(url).hostname\n",
        "\n",
        "\n",
        "while istrue == 'true': #Infinite while loop\n",
        "  try:\n",
        "    print('Getting Site..')\n",
        "    wd.get(url) ## Scrape Website\n",
        "    time.sleep(timeout)\n",
        "    amazon_title = wd.find_element_by_id('productTitle').text\n",
        "\n",
        "    instock = bool(\"In Stock.\" in wd.page_source)\n",
        "\n",
        "    if instock == True: ## In Stock Checker\n",
        "      if notification_sent == False:\n",
        "        print(amazon_title + ' Is in stock. Sending notification.')\n",
        "        notification_sent = True\n",
        "\n",
        "        embed = DiscordEmbed(title=amazon_title + ' is now in stock!', description='Get your item now!', color='1e457b')\n",
        "        embed.set_author(name='https://'+hostname, url='https://'+hostname, icon_url='https://'+hostname+'/favicon.ico')\n",
        "        embed.set_footer(text='Stock Bot')\n",
        "        embed.add_embed_field(name='Link', value=url)\n",
        "        embed.set_timestamp()\n",
        "\n",
        "        embed_webhook.add_embed(embed)\n",
        "        response = embed_webhook.execute()\n",
        "\n",
        "        webhook = DiscordWebhook(url=webhook, content='@everyone') ## sends everyone the notification\n",
        "        response = webhook.execute()\n",
        "\n",
        "      else:\n",
        "        print(amazon_title + ' Is in stock. Already sent notification.')\n",
        "    else:\n",
        "      notification_sent = False\n",
        "      print(amazon_title + ' is not in stock, trying again..')\n",
        "  except KeyboardInterrupt: ## Stop the loop and exit\n",
        "    break"
      ],
      "execution_count": null,
      "outputs": [
        {
          "output_type": "stream",
          "text": [
            "Importing libraries..\n",
            "Libraries have been imported.\n",
            "Getting Site..\n",
            "Sony WHXB900N Noise Cancelling Headphones, Wireless Bluetooth Over the Ear Headset with Mic for Phone-Call and Alexa Voice Control- Black (WH-XB900N/B) Is in stock. Sending notification.\n",
            "Getting Site..\n",
            "Sony WHXB900N Noise Cancelling Headphones, Wireless Bluetooth Over the Ear Headset with Mic for Phone-Call and Alexa Voice Control- Black (WH-XB900N/B) Is in stock. Already sent notification.\n",
            "Getting Site..\n"
          ],
          "name": "stdout"
        }
      ]
    }
  ]
}